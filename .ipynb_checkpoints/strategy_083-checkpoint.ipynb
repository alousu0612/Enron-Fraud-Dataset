{
 "cells": [
  {
   "cell_type": "code",
   "execution_count": 1,
   "metadata": {},
   "outputs": [],
   "source": [
    "import numpy as np\n",
    "import pandas as pd\n",
    "import matplotlib.pyplot as plt\n",
    "%matplotlib inline\n",
    "plt.style.use('ggplot')\n",
    "import warnings\n",
    "warnings.simplefilter('ignore')\n",
    "\n",
    "import time\n",
    "from pprint import pprint"
   ]
  },
  {
   "cell_type": "code",
   "execution_count": 2,
   "metadata": {},
   "outputs": [
    {
     "name": "stdout",
     "output_type": "stream",
     "text": [
      "train shape: (113, 22)\n",
      "test shape: (33, 21)\n"
     ]
    }
   ],
   "source": [
    "train = pd.read_csv('./data/train_data.csv')\n",
    "test = pd.read_csv('./data/test_features.csv')\n",
    "print('train shape: {}'.format(train.shape))\n",
    "print('test shape: {}'.format(test.shape))\n",
    "\n",
    "poi = train['poi']\n",
    "train.drop(['poi', 'name', 'email_address'], axis=1, inplace=True)\n",
    "name = test['name']\n",
    "test.drop(['name', 'email_address'], axis=1, inplace=True)\n",
    "df = pd.concat([train, test])"
   ]
  },
  {
   "cell_type": "code",
   "execution_count": 3,
   "metadata": {},
   "outputs": [
    {
     "name": "stdout",
     "output_type": "stream",
     "text": [
      "<class 'pandas.core.frame.DataFrame'>\n",
      "RangeIndex: 113 entries, 0 to 112\n",
      "Data columns (total 19 columns):\n",
      "bonus                        61 non-null float64\n",
      "deferral_payments            28 non-null float64\n",
      "deferred_income              34 non-null float64\n",
      "director_fees                13 non-null float64\n",
      "exercised_stock_options      81 non-null float64\n",
      "expenses                     73 non-null float64\n",
      "from_messages                65 non-null float64\n",
      "from_poi_to_this_person      65 non-null float64\n",
      "from_this_person_to_poi      65 non-null float64\n",
      "loan_advances                2 non-null float64\n",
      "long_term_incentive          49 non-null float64\n",
      "other                        69 non-null float64\n",
      "restricted_stock             82 non-null float64\n",
      "restricted_stock_deferred    10 non-null float64\n",
      "salary                       73 non-null float64\n",
      "shared_receipt_with_poi      65 non-null float64\n",
      "to_messages                  65 non-null float64\n",
      "total_payments               96 non-null float64\n",
      "total_stock_value            98 non-null float64\n",
      "dtypes: float64(19)\n",
      "memory usage: 16.9 KB\n"
     ]
    }
   ],
   "source": [
    "train.info()"
   ]
  },
  {
   "cell_type": "code",
   "execution_count": 4,
   "metadata": {},
   "outputs": [],
   "source": [
    "# ignore email_address\n",
    "email_features = {'to_messages', \n",
    "                  'from_poi_to_this_person', \n",
    "                  'from_messages', \n",
    "                  'from_this_person_to_poi', \n",
    "                  'shared_receipt_with_poi'}\n",
    "financial_features = set(train.columns) - email_features"
   ]
  },
  {
   "cell_type": "code",
   "execution_count": 5,
   "metadata": {},
   "outputs": [],
   "source": [
    "for col in train.columns:\n",
    "    if col in email_features:\n",
    "        df[col] = np.nan_to_num(df[col])\n",
    "    elif col in financial_features:\n",
    "        df[col].fillna(df[col].median(), inplace=True)"
   ]
  },
  {
   "cell_type": "markdown",
   "metadata": {},
   "source": [
    "### Supervised transformation based on gradient boosted trees"
   ]
  },
  {
   "cell_type": "code",
   "execution_count": 6,
   "metadata": {},
   "outputs": [
    {
     "name": "stderr",
     "output_type": "stream",
     "text": [
      "C:\\Users\\USER\\Anaconda3\\lib\\site-packages\\sklearn\\ensemble\\weight_boosting.py:29: DeprecationWarning: numpy.core.umath_tests is an internal NumPy module and should not be imported. It will be removed in a future NumPy release.\n",
      "  from numpy.core.umath_tests import inner1d\n"
     ]
    }
   ],
   "source": [
    "from sklearn.preprocessing import OneHotEncoder\n",
    "from sklearn.linear_model import LogisticRegression\n",
    "from sklearn.ensemble import GradientBoostingClassifier\n",
    "from sklearn.model_selection import cross_val_score, train_test_split\n",
    "from sklearn import metrics\n",
    "\n",
    "data, target = df[:len(train)], poi\n",
    "test = df[len(train):]\n",
    "\n",
    "x_train, x_test, y_train, y_test = train_test_split(data, target, test_size=0.25, stratify=target)\n",
    "x_train, x_val, y_train, y_val = train_test_split(x_train, y_train, test_size=0.25, stratify=y_train)"
   ]
  },
  {
   "cell_type": "code",
   "execution_count": 7,
   "metadata": {},
   "outputs": [
    {
     "data": {
      "text/plain": [
       "LogisticRegression(C=1.0, class_weight=None, dual=False, fit_intercept=True,\n",
       "          intercept_scaling=1, max_iter=10000, multi_class='ovr', n_jobs=1,\n",
       "          penalty='l2', random_state=None, solver='lbfgs', tol=0.0001,\n",
       "          verbose=0, warm_start=False)"
      ]
     },
     "execution_count": 7,
     "metadata": {},
     "output_type": "execute_result"
    }
   ],
   "source": [
    "# Supervised transformation based on gradient boosted trees\n",
    "grd = GradientBoostingClassifier(n_estimators=300)\n",
    "grd_enc = OneHotEncoder()\n",
    "grd_log = LogisticRegression(solver='lbfgs', max_iter=10000)\n",
    "\n",
    "grd.fit(x_train, y_train)\n",
    "grd_enc.fit(grd.apply(x_train)[:, :, 0])\n",
    "grd_log.fit(grd_enc.transform(grd.apply(x_val)[:, :, 0]), y_val)"
   ]
  },
  {
   "cell_type": "code",
   "execution_count": 8,
   "metadata": {},
   "outputs": [
    {
     "name": "stdout",
     "output_type": "stream",
     "text": [
      "val_score: 1.0\n",
      "\n",
      "accuracy: 0.7931034482758621\n"
     ]
    }
   ],
   "source": [
    "y_pred_prob = grd_log.predict_proba(grd_enc.transform(grd.apply(x_test)[:, :, 0]))[:, 1]\n",
    "y_pred = grd_log.predict(grd_enc.transform(grd.apply(x_test)[:, :, 0]))\n",
    "print('val_score: {}'.format(np.mean(cross_val_score(grd_log, grd_enc.transform(grd.apply(x_train)[:, :, 0]), y_train, cv=10))))\n",
    "print('\\naccuracy: {}'.format(metrics.accuracy_score(y_test, y_pred)))"
   ]
  },
  {
   "cell_type": "markdown",
   "metadata": {},
   "source": [
    "### parameter tuning"
   ]
  },
  {
   "cell_type": "code",
   "execution_count": 9,
   "metadata": {},
   "outputs": [],
   "source": [
    "from sklearn.pipeline import Pipeline\n",
    "from sklearn.model_selection import GridSearchCV\n",
    "\n",
    "def tuning_parameters(alg, params, data, target):\n",
    "    \n",
    "    grid_search = GridSearchCV(alg, params, error_score=0, cv=10, n_jobs=-1)\n",
    "    grid_search.fit(data, target)\n",
    "    \n",
    "    print(f'Best Accuracy: {grid_search.best_score_:.4f}')\n",
    "    print(f'\\nBest Parameters: {grid_search.best_params_}')\n",
    "    print(f\"\\nAverage Time to fit: {grid_search.cv_results_['mean_fit_time'].mean():.4f}\")\n",
    "    print(f\"\\nAverage Time to predict: {grid_search.cv_results_['mean_score_time'].mean():.4f}\")"
   ]
  },
  {
   "cell_type": "code",
   "execution_count": 30,
   "metadata": {},
   "outputs": [
    {
     "name": "stdout",
     "output_type": "stream",
     "text": [
      "Best Accuracy: 0.9206\n",
      "\n",
      "Best Parameters: {'gbc__learning_rate': 0.7, 'gbc__max_depth': 40, 'gbc__max_features': 5, 'gbc__min_samples_leaf': 2, 'gbc__min_samples_split': 3, 'gbc__n_estimators': 300, 'gbc__subsample': 0.75}\n",
      "\n",
      "Average Time to fit: 0.1091\n",
      "\n",
      "Average Time to predict: 0.0009\n",
      "Time elapsed = 968.527872800827 (sec)\n"
     ]
    }
   ],
   "source": [
    "gbc = GradientBoostingClassifier()\n",
    "\n",
    "model = Pipeline([\n",
    "    ('gbc', gbc)\n",
    "])\n",
    "\n",
    "params = {\n",
    "    \n",
    "    'gbc__n_estimators': [100, 200, 300],\n",
    "    'gbc__max_depth': [20, 30, 40],\n",
    "    'gbc__min_samples_split': [2, 3, 4],\n",
    "    'gbc__min_samples_leaf': [1, 2, 3],\n",
    "    'gbc__max_features': [5, 7, 9, 11, 13, 15, 19],\n",
    "    'gbc__learning_rate': [0.7, 0.8, 0.9, 1.0],\n",
    "    'gbc__subsample': [0.75, 0.8, 0.85],\n",
    "}\n",
    "\n",
    "start_time = time.time()\n",
    "tuning_parameters(model, params, x_train, y_train)\n",
    "print(f\"Time elapsed = {time.time() - start_time} (sec)\")"
   ]
  },
  {
   "cell_type": "code",
   "execution_count": 10,
   "metadata": {},
   "outputs": [
    {
     "name": "stdout",
     "output_type": "stream",
     "text": [
      "(33, 1)\n"
     ]
    }
   ],
   "source": [
    "# revised GBC after hypertuning\n",
    "grd_r = GradientBoostingClassifier(learning_rate=0.7,\n",
    "                                   max_depth=40,\n",
    "                                   max_features=5,\n",
    "                                   min_samples_leaf=2,\n",
    "                                   min_samples_split=3,\n",
    "                                   n_estimators=300,\n",
    "                                   subsample=0.75)\n",
    "grd_r.fit(x_train, y_train)\n",
    "grd_enc.fit(grd_r.apply(x_train)[:, :, 0])\n",
    "grd_log.fit(grd_enc.transform(grd_r.apply(x_val)[:, :, 0]), y_val)\n",
    "\n",
    "submission = pd.DataFrame(grd_log.predict_proba(grd_enc.transform(grd_r.apply(test)[:, :, 0]))[:, 1])\n",
    "print(submission.shape)\n",
    "submission.columns = ['poi']\n",
    "submission['name'] = name\n",
    "submission = submission[['name', 'poi']]"
   ]
  },
  {
   "cell_type": "code",
   "execution_count": 11,
   "metadata": {},
   "outputs": [],
   "source": [
    "submission.to_csv('submission.csv', index=False)"
   ]
  },
  {
   "cell_type": "code",
   "execution_count": 12,
   "metadata": {},
   "outputs": [
    {
     "data": {
      "text/html": [
       "<div>\n",
       "<style scoped>\n",
       "    .dataframe tbody tr th:only-of-type {\n",
       "        vertical-align: middle;\n",
       "    }\n",
       "\n",
       "    .dataframe tbody tr th {\n",
       "        vertical-align: top;\n",
       "    }\n",
       "\n",
       "    .dataframe thead th {\n",
       "        text-align: right;\n",
       "    }\n",
       "</style>\n",
       "<table border=\"1\" class=\"dataframe\">\n",
       "  <thead>\n",
       "    <tr style=\"text-align: right;\">\n",
       "      <th></th>\n",
       "      <th>name</th>\n",
       "      <th>poi</th>\n",
       "    </tr>\n",
       "  </thead>\n",
       "  <tbody>\n",
       "    <tr>\n",
       "      <th>0</th>\n",
       "      <td>BELDEN TIMOTHY N</td>\n",
       "      <td>0.026251</td>\n",
       "    </tr>\n",
       "    <tr>\n",
       "      <th>1</th>\n",
       "      <td>BOWEN JR RAYMOND M</td>\n",
       "      <td>0.082130</td>\n",
       "    </tr>\n",
       "    <tr>\n",
       "      <th>2</th>\n",
       "      <td>HANNON KEVIN P</td>\n",
       "      <td>0.263583</td>\n",
       "    </tr>\n",
       "    <tr>\n",
       "      <th>3</th>\n",
       "      <td>DELAINEY DAVID W</td>\n",
       "      <td>0.041818</td>\n",
       "    </tr>\n",
       "    <tr>\n",
       "      <th>4</th>\n",
       "      <td>CAUSEY RICHARD A</td>\n",
       "      <td>0.075655</td>\n",
       "    </tr>\n",
       "    <tr>\n",
       "      <th>5</th>\n",
       "      <td>HICKERSON GARY J</td>\n",
       "      <td>0.071663</td>\n",
       "    </tr>\n",
       "    <tr>\n",
       "      <th>6</th>\n",
       "      <td>FREVERT MARK A</td>\n",
       "      <td>0.056452</td>\n",
       "    </tr>\n",
       "    <tr>\n",
       "      <th>7</th>\n",
       "      <td>CHAN RONNIE</td>\n",
       "      <td>0.046663</td>\n",
       "    </tr>\n",
       "    <tr>\n",
       "      <th>8</th>\n",
       "      <td>DONAHUE JR JEFFREY M</td>\n",
       "      <td>0.188594</td>\n",
       "    </tr>\n",
       "    <tr>\n",
       "      <th>9</th>\n",
       "      <td>REYNOLDS LAWRENCE</td>\n",
       "      <td>0.074992</td>\n",
       "    </tr>\n",
       "    <tr>\n",
       "      <th>10</th>\n",
       "      <td>HORTON STANLEY C</td>\n",
       "      <td>0.048220</td>\n",
       "    </tr>\n",
       "    <tr>\n",
       "      <th>11</th>\n",
       "      <td>LEWIS RICHARD</td>\n",
       "      <td>0.038072</td>\n",
       "    </tr>\n",
       "    <tr>\n",
       "      <th>12</th>\n",
       "      <td>SHERRICK JEFFREY B</td>\n",
       "      <td>0.059105</td>\n",
       "    </tr>\n",
       "    <tr>\n",
       "      <th>13</th>\n",
       "      <td>MEYER JEROME J</td>\n",
       "      <td>0.029762</td>\n",
       "    </tr>\n",
       "    <tr>\n",
       "      <th>14</th>\n",
       "      <td>DERRICK JR. JAMES V</td>\n",
       "      <td>0.239359</td>\n",
       "    </tr>\n",
       "    <tr>\n",
       "      <th>15</th>\n",
       "      <td>PIRO JIM</td>\n",
       "      <td>0.036549</td>\n",
       "    </tr>\n",
       "    <tr>\n",
       "      <th>16</th>\n",
       "      <td>DETMERING TIMOTHY J</td>\n",
       "      <td>0.098700</td>\n",
       "    </tr>\n",
       "    <tr>\n",
       "      <th>17</th>\n",
       "      <td>KISHKILL JOSEPH G</td>\n",
       "      <td>0.176207</td>\n",
       "    </tr>\n",
       "    <tr>\n",
       "      <th>18</th>\n",
       "      <td>BAY FRANKLIN R</td>\n",
       "      <td>0.543390</td>\n",
       "    </tr>\n",
       "    <tr>\n",
       "      <th>19</th>\n",
       "      <td>PRENTICE JAMES</td>\n",
       "      <td>0.037517</td>\n",
       "    </tr>\n",
       "    <tr>\n",
       "      <th>20</th>\n",
       "      <td>TOTAL</td>\n",
       "      <td>0.148453</td>\n",
       "    </tr>\n",
       "    <tr>\n",
       "      <th>21</th>\n",
       "      <td>FALLON JAMES B</td>\n",
       "      <td>0.065899</td>\n",
       "    </tr>\n",
       "    <tr>\n",
       "      <th>22</th>\n",
       "      <td>METTS MARK</td>\n",
       "      <td>0.152914</td>\n",
       "    </tr>\n",
       "    <tr>\n",
       "      <th>23</th>\n",
       "      <td>WODRASKA JOHN</td>\n",
       "      <td>0.028266</td>\n",
       "    </tr>\n",
       "    <tr>\n",
       "      <th>24</th>\n",
       "      <td>MORDAUNT KRISTINA M</td>\n",
       "      <td>0.055356</td>\n",
       "    </tr>\n",
       "    <tr>\n",
       "      <th>25</th>\n",
       "      <td>CARTER REBECCA C</td>\n",
       "      <td>0.047338</td>\n",
       "    </tr>\n",
       "    <tr>\n",
       "      <th>26</th>\n",
       "      <td>BHATNAGAR SANJAY</td>\n",
       "      <td>0.075652</td>\n",
       "    </tr>\n",
       "    <tr>\n",
       "      <th>27</th>\n",
       "      <td>WALTERS GARETH W</td>\n",
       "      <td>0.028266</td>\n",
       "    </tr>\n",
       "    <tr>\n",
       "      <th>28</th>\n",
       "      <td>BIBI PHILIPPE A</td>\n",
       "      <td>0.063252</td>\n",
       "    </tr>\n",
       "    <tr>\n",
       "      <th>29</th>\n",
       "      <td>SHERRIFF JOHN R</td>\n",
       "      <td>0.023077</td>\n",
       "    </tr>\n",
       "    <tr>\n",
       "      <th>30</th>\n",
       "      <td>GIBBS DANA R</td>\n",
       "      <td>0.101694</td>\n",
       "    </tr>\n",
       "    <tr>\n",
       "      <th>31</th>\n",
       "      <td>LINDHOLM TOD A</td>\n",
       "      <td>0.104344</td>\n",
       "    </tr>\n",
       "    <tr>\n",
       "      <th>32</th>\n",
       "      <td>MCMAHON JEFFREY</td>\n",
       "      <td>0.164680</td>\n",
       "    </tr>\n",
       "  </tbody>\n",
       "</table>\n",
       "</div>"
      ],
      "text/plain": [
       "                    name       poi\n",
       "0       BELDEN TIMOTHY N  0.026251\n",
       "1     BOWEN JR RAYMOND M  0.082130\n",
       "2         HANNON KEVIN P  0.263583\n",
       "3       DELAINEY DAVID W  0.041818\n",
       "4       CAUSEY RICHARD A  0.075655\n",
       "5       HICKERSON GARY J  0.071663\n",
       "6         FREVERT MARK A  0.056452\n",
       "7            CHAN RONNIE  0.046663\n",
       "8   DONAHUE JR JEFFREY M  0.188594\n",
       "9      REYNOLDS LAWRENCE  0.074992\n",
       "10      HORTON STANLEY C  0.048220\n",
       "11         LEWIS RICHARD  0.038072\n",
       "12    SHERRICK JEFFREY B  0.059105\n",
       "13        MEYER JEROME J  0.029762\n",
       "14   DERRICK JR. JAMES V  0.239359\n",
       "15              PIRO JIM  0.036549\n",
       "16   DETMERING TIMOTHY J  0.098700\n",
       "17     KISHKILL JOSEPH G  0.176207\n",
       "18        BAY FRANKLIN R  0.543390\n",
       "19        PRENTICE JAMES  0.037517\n",
       "20                 TOTAL  0.148453\n",
       "21        FALLON JAMES B  0.065899\n",
       "22            METTS MARK  0.152914\n",
       "23         WODRASKA JOHN  0.028266\n",
       "24   MORDAUNT KRISTINA M  0.055356\n",
       "25      CARTER REBECCA C  0.047338\n",
       "26      BHATNAGAR SANJAY  0.075652\n",
       "27      WALTERS GARETH W  0.028266\n",
       "28       BIBI PHILIPPE A  0.063252\n",
       "29       SHERRIFF JOHN R  0.023077\n",
       "30          GIBBS DANA R  0.101694\n",
       "31        LINDHOLM TOD A  0.104344\n",
       "32       MCMAHON JEFFREY  0.164680"
      ]
     },
     "execution_count": 12,
     "metadata": {},
     "output_type": "execute_result"
    }
   ],
   "source": [
    "submission"
   ]
  },
  {
   "cell_type": "code",
   "execution_count": null,
   "metadata": {},
   "outputs": [],
   "source": []
  }
 ],
 "metadata": {
  "kernelspec": {
   "display_name": "Python 3",
   "language": "python",
   "name": "python3"
  },
  "language_info": {
   "codemirror_mode": {
    "name": "ipython",
    "version": 3
   },
   "file_extension": ".py",
   "mimetype": "text/x-python",
   "name": "python",
   "nbconvert_exporter": "python",
   "pygments_lexer": "ipython3",
   "version": "3.6.4"
  }
 },
 "nbformat": 4,
 "nbformat_minor": 2
}
